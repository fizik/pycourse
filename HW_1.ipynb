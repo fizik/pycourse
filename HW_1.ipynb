{
 "cells": [
  {
   "cell_type": "markdown",
   "metadata": {},
   "source": [
    "# Задания\n",
    "1. Метод списка list.extend(). Дано два списка: \n",
    "    ```python\n",
    "l1 = [1, 2, 3]\n",
    "l2 = [4, 5, 6]\n",
    "    ```    \n",
    "    Рассмотрим следующие случаи:\n",
    "    - a = l1.extend(l2). Чему равно *a, l1*? Какой тип у *a*? \n",
    "    - l1.extend(100) Объясните результат.\n",
    "    - l1.append(100) Чему равно *l1*?\n",
    "    - l1.extend(100) Чему равно *l1*?\n",
    "    Выполните следующее:\n",
    "    ```python\n",
    "id_l1 = id(l1)  # запомнили id списка l1\n",
    "l1 = l1 + [1,]  # добавили новый список к существующему \n",
    "id_l1_add = id(l1)  # получили id нового списка\n",
    "print(id_l1, id_l1_add)  # Объясните результат\n",
    "l1.append(1)\n",
    "id_l1_append = id(l1)\n",
    "print(id_l1_add, id_l1_append)  # Объясните результат\n",
    "    ```    \n"
   ]
  },
  {
   "cell_type": "code",
   "execution_count": 1,
   "metadata": {},
   "outputs": [],
   "source": [
    "l1 = [1, 2, 3]\n",
    "l2 = [4, 5, 6]"
   ]
  },
  {
   "cell_type": "code",
   "execution_count": 2,
   "metadata": {
    "scrolled": true
   },
   "outputs": [
    {
     "name": "stdout",
     "output_type": "stream",
     "text": [
      "None\n",
      "[1, 2, 3, 4, 5, 6]\n"
     ]
    }
   ],
   "source": [
    "a = l1.extend(l2) #list.extend не возвращает значение\n",
    "\n",
    "print(a) # None\n",
    "type(a) # NoneType\n",
    "print(l1) # [1, 2, 3, 4, 5, 6, 4, 5, 6, 4, 5, 6]"
   ]
  },
  {
   "cell_type": "code",
   "execution_count": 3,
   "metadata": {},
   "outputs": [
    {
     "name": "stdout",
     "output_type": "stream",
     "text": [
      "Help on method_descriptor:\n",
      "\n",
      "extend(self, iterable, /)\n",
      "    Extend list by appending elements from the iterable.\n",
      "\n"
     ]
    }
   ],
   "source": [
    "help(list.extend)"
   ]
  },
  {
   "cell_type": "code",
   "execution_count": 4,
   "metadata": {},
   "outputs": [],
   "source": [
    "#l1.extend(100) #TypeError: 'int' object is not iterable. \n",
    "# Аргумент должен быть списком, а не константой\n"
   ]
  },
  {
   "cell_type": "code",
   "execution_count": 5,
   "metadata": {},
   "outputs": [
    {
     "name": "stdout",
     "output_type": "stream",
     "text": [
      "[1, 2, 3, 4, 5, 6, 100]\n"
     ]
    }
   ],
   "source": [
    "l1.append(100) # добавляет константу в конец списка\n",
    "print(l1) # [1, 2, 3, 4, 5, 6, 4, 5, 6, 4, 5, 6, 100]"
   ]
  },
  {
   "cell_type": "code",
   "execution_count": 6,
   "metadata": {},
   "outputs": [
    {
     "name": "stdout",
     "output_type": "stream",
     "text": [
      "[1, 2, 3, 4, 5, 6]\n"
     ]
    }
   ],
   "source": [
    "l1.remove(100) # удаляет первую найденную константу из списка\n",
    "print(l1) # [1, 2, 3, 4, 5, 6, 4, 5, 6, 4, 5, 6]"
   ]
  },
  {
   "cell_type": "code",
   "execution_count": 7,
   "metadata": {},
   "outputs": [
    {
     "name": "stdout",
     "output_type": "stream",
     "text": [
      "2073958900680 2073960048776\n",
      "2073960048776 2073960048776\n"
     ]
    }
   ],
   "source": [
    "id_l1 = id(l1)  # запомнили id списка l1\n",
    "l1 = l1 + [1,]  # добавили новый список к существующему \n",
    "id_l1_add = id(l1)  # получили id нового списка\n",
    "print(id_l1, id_l1_add)  # Объясните результат\n",
    "# идентификаторы (адреса) списков отличаются, т.к. при операции сложения списков выделяется память для нового объекта.\n",
    "l1.append(1)\n",
    "id_l1_append = id(l1)\n",
    "print(id_l1_add, id_l1_append)  # Объясните результат\n",
    "# идентификаторы (адреса) списков не отличаются, т.к. метод (append) объекта добавляет данные в аттрибуты объекта, но не переопределяет его."
   ]
  },
  {
   "cell_type": "markdown",
   "metadata": {},
   "source": [
    "2. Создайте список с нечетными натуральными числами от 0 до 100.\n"
   ]
  },
  {
   "cell_type": "code",
   "execution_count": 8,
   "metadata": {},
   "outputs": [
    {
     "name": "stdout",
     "output_type": "stream",
     "text": [
      "[1, 3, 5, 7, 9, 11, 13, 15, 17, 19, 21, 23, 25, 27, 29, 31, 33, 35, 37, 39, 41, 43, 45, 47, 49, 51, 53, 55, 57, 59, 61, 63, 65, 67, 69, 71, 73, 75, 77, 79, 81, 83, 85, 87, 89, 91, 93, 95, 97, 99]\n",
      "[1, 3, 5, 7, 9, 11, 13, 15, 17, 19, 21, 23, 25, 27, 29, 31, 33, 35, 37, 39, 41, 43, 45, 47, 49, 51, 53, 55, 57, 59, 61, 63, 65, 67, 69, 71, 73, 75, 77, 79, 81, 83, 85, 87, 89, 91, 93, 95, 97, 99]\n"
     ]
    }
   ],
   "source": [
    "l2 = [i for i in range(0, 100+1) if i%2]\n",
    "print(l2)\n",
    "\n",
    "l2=list(range(1, 100, 2))\n",
    "print(l2)"
   ]
  },
  {
   "cell_type": "markdown",
   "metadata": {},
   "source": [
    "3. Получите срез списка, где стартовым числом будет 23, а конечными числом 57 с шагом 4. *Для решения воспользуйтесь методом list.index(value)*"
   ]
  },
  {
   "cell_type": "code",
   "execution_count": 9,
   "metadata": {},
   "outputs": [
    {
     "name": "stdout",
     "output_type": "stream",
     "text": [
      "[23, 31, 39, 47, 55]\n"
     ]
    }
   ],
   "source": [
    "l3 = l2[l2.index(23):l2.index(57):4]\n",
    "print(l3)"
   ]
  },
  {
   "cell_type": "markdown",
   "metadata": {},
   "source": [
    "\n",
    "4. Задано число\n",
    "    ```python\n",
    "n = 5\n",
    "# ваш код\n",
    "    ```    \n",
    "Получите следующий список l вида:\n",
    "    ```python\n",
    "l = [[0, 15, 14, 13, 12],\n",
    "        [1, 16, 23, 22, 11],\n",
    "        [2, 17, 24, 21, 10],\n",
    "        [3, 18, 19, 20,  9],\n",
    "        [4,  5,  6,  7,  8]\n",
    "]\n",
    "    ```    \n",
    "Значения в списке формируются в виде списков размером *n* и закручиваются по спирали, как показано в примере."
   ]
  },
  {
   "cell_type": "code",
   "execution_count": 10,
   "metadata": {},
   "outputs": [
    {
     "data": {
      "text/plain": [
       "[[0, 23, 22, 21, 20, 19, 18],\n",
       " [1, 24, 39, 38, 37, 36, 17],\n",
       " [2, 25, 40, 47, 46, 35, 16],\n",
       " [3, 26, 41, 48, 45, 34, 15],\n",
       " [4, 27, 42, 43, 44, 33, 14],\n",
       " [5, 28, 29, 30, 31, 32, 13],\n",
       " [6, 7, 8, 9, 10, 11, 12]]"
      ]
     },
     "execution_count": 10,
     "metadata": {},
     "output_type": "execute_result"
    }
   ],
   "source": [
    "n = 7\n",
    "\n",
    "l=[list(range(n)) for i in range(n)]\n",
    "#print(l)\n",
    "v=0\n",
    "\n",
    "i=0\n",
    "j=0\n",
    "\n",
    "for r in range(0, n//2+1):\n",
    "    for i in range(r, n-r):\n",
    "        l[i][j]=v\n",
    "        v+=1\n",
    "\n",
    "    for j in range(r+1, n-r):\n",
    "        l[i][j]=v\n",
    "        v+=1\n",
    "\n",
    "    for i in range(n-2-r, r-1, -1):\n",
    "        l[i][j]=v\n",
    "        v+=1\n",
    "\n",
    "    for j in range(n-2-r, r, -1):\n",
    "        l[i][j]=v\n",
    "        v+=1\n",
    "    \n",
    "l"
   ]
  }
 ],
 "metadata": {
  "author": "",
  "kernelspec": {
   "display_name": "Python 3",
   "language": "python",
   "name": "python3"
  },
  "language_info": {
   "codemirror_mode": {
    "name": "ipython",
    "version": 3
   },
   "file_extension": ".py",
   "mimetype": "text/x-python",
   "name": "python",
   "nbconvert_exporter": "python",
   "pygments_lexer": "ipython3",
   "version": "3.7.4"
  },
  "latex_envs": {
   "LaTeX_envs_menu_present": true,
   "autoclose": false,
   "autocomplete": true,
   "bibliofile": "biblio.bib",
   "cite_by": "apalike",
   "current_citInitial": 1,
   "eqLabelWithNumbers": true,
   "eqNumInitial": 1,
   "hotkeys": {
    "equation": "Ctrl-E",
    "itemize": "Ctrl-I"
   },
   "labels_anchors": false,
   "latex_user_defs": false,
   "report_style_numbering": false,
   "user_envs_cfg": false
  },
  "varInspector": {
   "cols": {
    "lenName": 16,
    "lenType": 16,
    "lenVar": 40
   },
   "kernels_config": {
    "python": {
     "delete_cmd_postfix": "",
     "delete_cmd_prefix": "del ",
     "library": "var_list.py",
     "varRefreshCmd": "print(var_dic_list())"
    },
    "r": {
     "delete_cmd_postfix": ") ",
     "delete_cmd_prefix": "rm(",
     "library": "var_list.r",
     "varRefreshCmd": "cat(var_dic_list()) "
    }
   },
   "types_to_exclude": [
    "module",
    "function",
    "builtin_function_or_method",
    "instance",
    "_Feature"
   ],
   "window_display": false
  }
 },
 "nbformat": 4,
 "nbformat_minor": 2
}
