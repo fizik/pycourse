{
 "cells": [
  {
   "cell_type": "markdown",
   "metadata": {},
   "source": [
    "# Задания\n",
    "\n",
    "#### Обязательная часть\n",
    "1. Дан датасет в виде бинарной строки в файле *JEOPARDY_CSV.csv* (~30Mb) с содержанием вопросов викторины Jeopardy!. Прочитайте построчно первые 1 + 10 строк, включая шапку и выведите их в печать вместе с текущей строкой и положением указателя в файле (метод tell для файла), после чего воспользуйтесь f.seek() и переместите указатель считывания на начало и выведите еще 5 строк на экран. В помощь к решению прилагаю считывание файла и конвертацию в юникод строки.\n",
    "```python\n",
    "with open('JEOPARDY_CSV.csv', 'rb') as f:\n",
    "        # decode применяется к считываемой строке и перевод из байт-строки в utf-8\n",
    "        head = f.readline().decode('utf-8')  \n",
    "        # ВАШ КОД ... \n",
    "```\n",
    "Замечание: прерывание цикла *for* можно обеспечить как условием *if* так и оператором *break*:\n",
    "```python\n",
    "for i in range(10):\n",
    "        print(i)\n",
    "        if i == 3:\n",
    "            break  # выйти из цикла for\n",
    "```"
   ]
  },
  {
   "cell_type": "code",
   "execution_count": 12,
   "metadata": {},
   "outputs": [
    {
     "name": "stdout",
     "output_type": "stream",
     "text": [
      "Show Number, Air Date, Round, Category, Value, Question, Answer\r\n",
      "\n",
      "1 221: 4680,2004-12-31,Jeopardy!,\"HISTORY\",\"$200\",\"For the last 8 years of his life, Galileo was under house arrest for espousing this man's theory\",\"Copernicus\"\r\n",
      "\n",
      "2 412: 4680,2004-12-31,Jeopardy!,\"ESPN's TOP 10 ALL-TIME ATHLETES\",\"$200\",\"No. 2: 1912 Olympian; football star at Carlisle Indian School; 6 MLB seasons with the Reds, Giants & Braves\",\"Jim Thorpe\"\r\n",
      "\n",
      "3 577: 4680,2004-12-31,Jeopardy!,\"EVERYBODY TALKS ABOUT IT...\",\"$200\",\"The city of Yuma in this state has a record average of 4,055 hours of sunshine each year\",\"Arizona\"\r\n",
      "\n",
      "4 732: 4680,2004-12-31,Jeopardy!,\"THE COMPANY LINE\",\"$200\",\"In 1963, live on \"\"The Art Linkletter Show\"\", this company served its billionth burger\",\"McDonald's\"\r\n",
      "\n",
      "5 908: 4680,2004-12-31,Jeopardy!,\"EPITAPHS & TRIBUTES\",\"$200\",\"Signer of the Dec. of Indep., framer of the Constitution of Mass., second President of the United States\",\"John Adams\"\r\n",
      "\n",
      "6 1049: 4680,2004-12-31,Jeopardy!,\"3-LETTER WORDS\",\"$200\",\"In the title of an Aesop fable, this insect shared billing with a grasshopper\",\"the ant\"\r\n",
      "\n",
      "7 1189: 4680,2004-12-31,Jeopardy!,\"HISTORY\",\"$400\",\"Built in 312 B.C. to link Rome & the South of Italy, it's still in use today\",\"the Appian Way\"\r\n",
      "\n",
      "8 1347: 4680,2004-12-31,Jeopardy!,\"ESPN's TOP 10 ALL-TIME ATHLETES\",\"$400\",\"No. 8: 30 steals for the Birmingham Barons; 2,306 steals for the Bulls\",\"Michael Jordan\"\r\n",
      "\n",
      "9 1536: 4680,2004-12-31,Jeopardy!,\"EVERYBODY TALKS ABOUT IT...\",\"$400\",\"In the winter of 1971-72, a record 1,122 inches of snow fell at Rainier Paradise Ranger Station in this state\",\"Washington\"\r\n",
      "\n",
      "10 1707: 4680,2004-12-31,Jeopardy!,\"THE COMPANY LINE\",\"$400\",\"This housewares store was named for the packaging its merchandise came in & was first displayed on\",\"Crate & Barrel\"\r\n",
      "\n",
      "1 65: Show Number, Air Date, Round, Category, Value, Question, Answer\r\n",
      "\n",
      "2 221: 4680,2004-12-31,Jeopardy!,\"HISTORY\",\"$200\",\"For the last 8 years of his life, Galileo was under house arrest for espousing this man's theory\",\"Copernicus\"\r\n",
      "\n",
      "3 412: 4680,2004-12-31,Jeopardy!,\"ESPN's TOP 10 ALL-TIME ATHLETES\",\"$200\",\"No. 2: 1912 Olympian; football star at Carlisle Indian School; 6 MLB seasons with the Reds, Giants & Braves\",\"Jim Thorpe\"\r\n",
      "\n",
      "4 577: 4680,2004-12-31,Jeopardy!,\"EVERYBODY TALKS ABOUT IT...\",\"$200\",\"The city of Yuma in this state has a record average of 4,055 hours of sunshine each year\",\"Arizona\"\r\n",
      "\n",
      "5 732: 4680,2004-12-31,Jeopardy!,\"THE COMPANY LINE\",\"$200\",\"In 1963, live on \"\"The Art Linkletter Show\"\", this company served its billionth burger\",\"McDonald's\"\r\n",
      "\n"
     ]
    }
   ],
   "source": [
    "with open('JEOPARDY_CSV.csv', 'rb') as f:\n",
    "     # decode применяется к считываемой строке и перевод из байт-строки в utf-8\n",
    "    head = f.readline().decode('utf-8')\n",
    "    print(head)\n",
    "\n",
    "    for i in range(10):\n",
    "        line = f.readline().decode('utf-8')\n",
    "        print(i+1, end=' ')\n",
    "        print(f.tell(), end=': ')\n",
    "        print(line)\n",
    "        \n",
    "    f.seek(0)\n",
    "    for i in range(5):\n",
    "        line = f.readline().decode('utf-8')\n",
    "        print(i+1, end=' ')\n",
    "        print(f.tell(), end=': ')\n",
    "        print(line)\n",
    "        \n",
    "    f.close()"
   ]
  },
  {
   "cell_type": "markdown",
   "metadata": {},
   "source": [
    "После этого заново считайте файл и распарсите его в структуру данных (словарь), ключи в котором будут являться поля *head*, а значениями списки с соответствующими данными, после чего при считывании добавьте парсинг каждой строки и добавление в соответствующий список данных после конвертации:\n",
    "    * Show Number, Value - int\n",
    "    * Air Date - создайте объект `datetime.date` из встроенной библиотеки [datetime](https://docs.python.org/3.7/library/datetime.html)\n",
    "    * Round, Category, Question, Answer - строки\n",
    "\n",
    "<i>Замечание: \n",
    "* вы можете воспользоваться встроенными и ранее пройденными методами форматирования строк, а можете воспользоваться [регулярными выражениями](https://habr.com/ru/post/349860/) с помощью библиотеки [re](https://docs.python.org/3.7/library/re.html)\n",
    "* рекомендую использовать функции как можно больше для форматирования, парсинга и т.д.</i>"
   ]
  },
  {
   "cell_type": "code",
   "execution_count": 83,
   "metadata": {},
   "outputs": [
    {
     "name": "stdout",
     "output_type": "stream",
     "text": [
      "{'Show Number': 4680, 'Air Date': datetime.date(2004, 12, 31), 'Value': 200, 'Round': 'Jeopardy!', 'Category': 'HISTORY', 'Question': \"For the last 8 years of his life, Galileo was under house arrest for espousing this man's theory\", 'Answer': 'Copernicus'}\n",
      "{'Show Number': 4680, 'Air Date': datetime.date(2004, 12, 31), 'Value': 200, 'Round': 'Jeopardy!', 'Category': \"ESPN's TOP 10 ALL-TIME ATHLETES\", 'Question': 'No. 2: 1912 Olympian; football star at Carlisle Indian School; 6 MLB seasons with the Reds, Giants & Braves', 'Answer': 'Jim Thorpe'}\n",
      "{'Show Number': 4680, 'Air Date': datetime.date(2004, 12, 31), 'Value': 200, 'Round': 'Jeopardy!', 'Category': 'EVERYBODY TALKS ABOUT IT...', 'Question': 'The city of Yuma in this state has a record average of 4,055 hours of sunshine each year', 'Answer': 'Arizona'}\n",
      "{'Show Number': 4680, 'Air Date': datetime.date(2004, 12, 31), 'Value': 200, 'Round': 'Jeopardy!', 'Category': 'THE COMPANY LINE', 'Question': 'In 1963, live on \"The Art Linkletter Show\", this company served its billionth burger', 'Answer': \"McDonald's\"}\n",
      "{'Show Number': 4680, 'Air Date': datetime.date(2004, 12, 31), 'Value': 200, 'Round': 'Jeopardy!', 'Category': 'EPITAPHS & TRIBUTES', 'Question': 'Signer of the Dec. of Indep., framer of the Constitution of Mass., second President of the United States', 'Answer': 'John Adams'}\n"
     ]
    }
   ],
   "source": [
    "import re\n",
    "import datetime\n",
    "\n",
    "with open('JEOPARDY_CSV.csv', 'rb') as f:\n",
    "    lines = f.readlines()\n",
    "    head = lines.pop(0).decode('utf-8')\n",
    "    head = head.replace(\"\\r\\n\",\"\")\n",
    "    keys = head.split(\", \")\n",
    "    #print(keys)\n",
    "\n",
    "    leo_dic=[]\n",
    "    for k in range(len(lines)):\n",
    "        lines[k] = lines[k].decode('utf-8').replace(\"\\r\\n\",\"\")\n",
    "        values=re.split(',(?=(?:[^\\\"]*\\\"[^\\\"]*\\\")*(?![^\\\"]*\\\"))', lines[k])\n",
    "        \n",
    "        #print(values)\n",
    "        leo_dic.append({keys[0]: int(values[0])})\n",
    "        leo_dic[k][keys[1]]= datetime.date.fromisoformat(values[1])\n",
    "        leo_dic[k][keys[4]]= int(values[4].replace('$', '').replace('\"', '').replace(',', '').replace('None', '0'))\n",
    "        \n",
    "        for i in [2,3,5,6]:\n",
    "            values[i]=re.sub('(^\")|(\"$)','',values[i])\n",
    "            values[i]=values[i].replace('\\\\\"', '\"')\n",
    "            values[i]=values[i].replace('\"\"', '\"')\n",
    "            leo_dic[k][keys[i]]= values[i]\n",
    "      \n",
    "    f.close()        \n",
    "        \n",
    "    for i in range(5):\n",
    "        print(leo_dic[i])"
   ]
  },
  {
   "cell_type": "markdown",
   "metadata": {},
   "source": [
    "    \n",
    "    * Сохраните созданную структуру данных в форматах [JSON](https://docs.python.org/3.7/library/json.html) (библиотека json) и с использованием модуля [pickle](https://docs.python.org/3.7/library/pickle.html)."
   ]
  },
  {
   "cell_type": "code",
   "execution_count": 86,
   "metadata": {},
   "outputs": [
    {
     "data": {
      "text/plain": [
       "'{\"Show Number\": 4680, \"Air Date\": \"2004-12-31\", \"Value\": 200, \"Round\": \"Jeopardy!\", \"Category\": \"HISTORY\", \"Question\": \"For the last 8 years of his life, Galileo was under house arrest for espousing this man\\'s theory\", \"Answer\": \"Copernicus\"}, {\"Show Number\": 4680, \"Air Date\": \"2004-12-31\", \"Value\": 200, \"Round\": \"Jeopardy!\", \"Category\": \"ESPN\\'s TOP 10 ALL-TIME ATHLETES\", \"Question\": \"No. 2: 1912 Olympian; football star at Carlisle Indian School; 6 MLB seasons with the Reds, Giants & Braves\", \"Answer\": \"Jim Thorpe\"}, {\"Show Number\": 4680, \"Air Date\": \"2004-12-31\", \"Value\": 200, \"Round\": \"Jeopardy!\", \"Category\": \"EVERYBODY TALKS ABOUT IT...\", \"Question\": \"The city of Yuma in this state has a record average of 4,055 hours of sunshine each year\", \"Answer\": \"Arizona\"}, {\"Show Number\": 4680, \"Air Date\": \"2004-12-31\", \"Value\": 200, \"Round\": \"Jeopardy!\", \"Category\": \"THE COMPANY LINE\", \"Question\": \"In 1963, live on \\\\\"The Art Linkletter Show\\\\\", this company served its billionth burger\", \"Answ'"
      ]
     },
     "execution_count": 86,
     "metadata": {},
     "output_type": "execute_result"
    }
   ],
   "source": [
    "import json\n",
    "\n",
    "class ComplexEncoder(json.JSONEncoder):\n",
    "    def default(self, obj):\n",
    "        if isinstance(obj, datetime.date):\n",
    "            return obj.isoformat()\n",
    "        return json.JSONEncoder.default(self, obj)\n",
    "\n",
    "json.dumps(leo_dic, cls=ComplexEncoder)[1:1000]"
   ]
  },
  {
   "cell_type": "code",
   "execution_count": 87,
   "metadata": {},
   "outputs": [
    {
     "data": {
      "text/plain": [
       "b'\\x03]q\\x00(}q\\x01(X\\x0b\\x00\\x00\\x00Show Numberq\\x02MH\\x12X\\x08\\x00\\x00\\x00Air Dateq\\x03cdatetime\\ndate\\nq\\x04C\\x04\\x07\\xd4\\x0c\\x1fq\\x05\\x85q\\x06Rq\\x07X\\x05\\x00\\x00\\x00Valueq\\x08K\\xc8X\\x05\\x00\\x00\\x00Roundq\\tX\\t\\x00\\x00\\x00Jeopardy!q\\nX\\x08\\x00\\x00\\x00Categoryq\\x0bX\\x07\\x00\\x00\\x00HISTORYq\\x0cX\\x08\\x00\\x00\\x00Questionq\\rX`\\x00\\x00\\x00For the last 8 years of his life, Galileo was under house arrest for espousing this man\\'s theoryq\\x0eX\\x06\\x00\\x00\\x00Answerq\\x0fX\\n\\x00\\x00\\x00Copernicusq\\x10u}q\\x11(h\\x02MH\\x12h\\x03h\\x04C\\x04\\x07\\xd4\\x0c\\x1fq\\x12\\x85q\\x13Rq\\x14h\\x08K\\xc8h\\tX\\t\\x00\\x00\\x00Jeopardy!q\\x15h\\x0bX\\x1f\\x00\\x00\\x00ESPN\\'s TOP 10 ALL-TIME ATHLETESq\\x16h\\rXk\\x00\\x00\\x00No. 2: 1912 Olympian; football star at Carlisle Indian School; 6 MLB seasons with the Reds, Giants & Bravesq\\x17h\\x0fX\\n\\x00\\x00\\x00Jim Thorpeq\\x18u}q\\x19(h\\x02MH\\x12h\\x03h\\x04C\\x04\\x07\\xd4\\x0c\\x1fq\\x1a\\x85q\\x1bRq\\x1ch\\x08K\\xc8h\\tX\\t\\x00\\x00\\x00Jeopardy!q\\x1dh\\x0bX\\x1b\\x00\\x00\\x00EVERYBODY TALKS ABOUT IT...q\\x1eh\\rXX\\x00\\x00\\x00The city of Yuma in this state has a record average of 4,055 hours of sunshine each yearq\\x1fh\\x0fX\\x07\\x00\\x00\\x00Arizonaq u}q!(h\\x02MH\\x12h\\x03h\\x04C\\x04\\x07\\xd4\\x0c\\x1fq\"\\x85q#Rq$h\\x08K\\xc8h\\tX\\t\\x00\\x00\\x00Jeopardy!q%h\\x0bX\\x10\\x00\\x00\\x00THE COMPANY LINEq&h\\rXT\\x00\\x00\\x00In 1963, live on \"The Art Linkletter Show\", this company served its billionth burgerq\\'h\\x0fX\\n\\x00\\x00\\x00McDonald\\'sq(u}q)(h\\x02MH\\x12h\\x03h\\x04C\\x04\\x07\\xd4\\x0c\\x1fq*\\x85q+Rq,h\\x08K\\xc8h\\tX\\t\\x00\\x00\\x00Jeopardy!q-h\\x0bX\\x13\\x00\\x00\\x00EPITAPHS & TRIBUTESq.h\\rXh\\x00\\x00\\x00Signer o'"
      ]
     },
     "execution_count": 87,
     "metadata": {},
     "output_type": "execute_result"
    }
   ],
   "source": [
    "import pickle\n",
    "\n",
    "pickle.dumps(leo_dic)[1:1000]"
   ]
  },
  {
   "cell_type": "markdown",
   "metadata": {},
   "source": [
    "2. Вам дана заготовка скрипта **animal.py**. Необходимо:\n",
    "    * Определить абстрактный класс Animal, в котором будут методы: *voice()*, *say_name()*, *feed(q)*. Класс Animal является родителем для классов Cat, Dog, Cow, которые будут определять поведение наследованных методов.\n",
    "    * Метод *voice()* должен возвращать строку \"{animal type} say: {animal_voice}!\" (например, \"Cow say: mooooo!\"). Голоса для животных: Cow - \"mooooo!\", Dog - \"wooof\", Cat - \"meooow\".\n",
    "    * Метод *say_name()* должен возвращать строку \"I am {animal type}, my name is {name}\"\n",
    "    * Метод *feed(q)* должен покормить животное едой размером q и вернуть строку. Для разных объемов q будут различные варианты возвращаемых строк:\n",
    "        * q = 0 -> \"I am still whant to eat\"\n",
    "        * q = 1 -> \"Not so much food\"\n",
    "        * q = 2 -> \"I am feeling good\"\n",
    "        * q > 2 -> \"Is today a holiday?\"\n",
    "    * У каждого из классов в заготовке дан также метод, который будет использоваться как опция.\n",
    "    \n",
    "    После определения классов вам необходимо будет запускать скрипт \"animal.py\" через комманду в командной строке (Anaconda Prompt для Windows или Bash Shell для Linux). Например:\n",
    "    \n",
    "    `python path_to_folder/animal.py -t \"animal_type\" -q *some_number* -a *what_to_do\"`\n",
    "    \n",
    "    В скрипте должен быть реализован следующий сценарий:\n",
    "    - для заданного animal_type вы создаёте животное с любым именем на ваше усмотрение, вызываете `say_name()` и кормите его `feed(q)` с q, который был получен через *-q*.\n",
    "    - для заданного -a сделать либо `voice()`, либо специфичный для каждого класса метод.\n",
    "    \n",
    "<i>"
   ]
  },
  {
   "cell_type": "code",
   "execution_count": 168,
   "metadata": {},
   "outputs": [
    {
     "name": "stderr",
     "output_type": "stream",
     "text": [
      "usage: ipykernel_launcher.py [-h] [--action ACTION] [--quantity QUANTITY]\n",
      "                             [--type TYPE]\n",
      "ipykernel_launcher.py: error: unrecognized arguments: -f C:\\Users\\FiZ\\AppData\\Roaming\\jupyter\\runtime\\kernel-1d3fb490-2ab4-492a-8f4a-fc7d402d68e2.json\n"
     ]
    },
    {
     "ename": "SystemExit",
     "evalue": "2",
     "output_type": "error",
     "traceback": [
      "An exception has occurred, use %tb to see the full traceback.\n",
      "\u001b[1;31mSystemExit\u001b[0m\u001b[1;31m:\u001b[0m 2\n"
     ]
    }
   ],
   "source": [
    "import argparse\n",
    "\n",
    "ap = argparse.ArgumentParser()\n",
    "ap.add_argument(\"--action\", \"-a\", help='what action animal should do')\n",
    "ap.add_argument(\"--quantity\", \"-q\", help='how much times they should do actions')\n",
    "ap.add_argument(\"--type\", \"-t\", help='what type of animal should born')\n",
    "\n",
    "class Animal:\n",
    "    def __init__(self, name):\n",
    "        self.name = name\n",
    "        self.animal_type = self.__class__.__name__\n",
    "        self.food = 0\n",
    "\n",
    "    def voice(self):\n",
    "        return(f\"{self.animal_type} say: {self.animal_voice}!\")\n",
    "\n",
    "    def say_name(self):\n",
    "        return(f\"I am {self.animal_type}, my name is {self.name}\")\n",
    "\n",
    "    def feed(self, q):\n",
    "        self.food += q\n",
    "        if (q==0):\n",
    "            return(\"I am still whant to eat\")\n",
    "        elif(q==1):\n",
    "            return(\"Not so much food\")\n",
    "        elif(q==2):\n",
    "            return(\"I am feeling good\")\n",
    "        elif(q>2):\n",
    "            return(\"Is today a holiday?\")\n",
    "\n",
    "class Dog(Animal):\n",
    "    animal_voice = \"wooof\"\n",
    "    pass\n",
    "\n",
    "    def play_with_ball(self):\n",
    "        print(f\"{self.name.capitalize()} run to a ball and become happy\")\n",
    "\n",
    "\n",
    "class Cat(Animal):\n",
    "    animal_voice = \"meooow\"\n",
    "    pass\n",
    "\n",
    "    def nightrunner(self):\n",
    "        print(f\"Everybody wake up, {self.name} is happy\")\n",
    "\n",
    "\n",
    "class Cow(Animal):\n",
    "    animal_voice = \"mooooo!\"\n",
    "    pass\n",
    "\n",
    "    def walking_with_bell(self):\n",
    "        print(f\"Cow walking on the grass\")\n",
    "\n",
    "\n",
    "def main():\n",
    "    animal_types={\"Dog\": Dog(\"Snoopy\"),\n",
    "                  \"Cat\": Cat(\"Ralf\"),\n",
    "                  \"Cow\": Cow(\"Moon\"),\n",
    "                   }\n",
    "    an = animal_types[args.type]\n",
    "    print(an.say_name())\n",
    "    print(an.feed(int(args.quantity)))\n",
    "    \n",
    "    if args.action == \"play_with_ball\":\n",
    "        an.play_with_ball()\n",
    "    elif args.action == \"nightrunner\":\n",
    "        an.nightrunner()\n",
    "    elif args.action == \"walking_with_bell\":\n",
    "        an.walking_with_bell()\n",
    "    else:\n",
    "        print(an.voice())\n",
    "    pass\n",
    "\n",
    "if __name__ == '__main__':\n",
    "    args = ap.parse_args()\n",
    "    main()\n"
   ]
  },
  {
   "cell_type": "code",
   "execution_count": 171,
   "metadata": {},
   "outputs": [
    {
     "name": "stdout",
     "output_type": "stream",
     "text": [
      "I am Dog, my name is Snoopy\n",
      "I am feeling good\n",
      "Snoopy run to a ball and become happy\n",
      "\n",
      "I am Cat, my name is Ralf\n",
      "Not so much food\n",
      "Everybody wake up, Ralf is happy\n",
      "\n",
      "I am Cow, my name is Moon\n",
      "Is today a holiday?\n",
      "Cow walking on the grass\n",
      "\n",
      "I am Dog, my name is Snoopy\n",
      "I am still whant to eat\n",
      "Dog say: wooof!\n"
     ]
    }
   ],
   "source": [
    "    args = ap.parse_args('-a play_with_ball -q 2 -t Dog'.split())\n",
    "    main()\n",
    "    print(\"\")\n",
    "    args = ap.parse_args('-a nightrunner -q 1 -t Cat'.split())\n",
    "    main()\n",
    "    print(\"\")\n",
    "    args = ap.parse_args('-a walking_with_bell -q 10 -t Cow'.split())\n",
    "    main()\n",
    "    print(\"\")\n",
    "    args = ap.parse_args('-a voice -q 0 -t Dog'.split())\n",
    "    main()"
   ]
  },
  {
   "cell_type": "markdown",
   "metadata": {},
   "source": [
    "#### Необязательная часть\n",
    "1. [Игра Акинатор](https://ru.akinator.com/)\n",
    "2. [Игра жизнь](https://ru.wikipedia.org/wiki/%D0%98%D0%B3%D1%80%D0%B0_%C2%AB%D0%96%D0%B8%D0%B7%D0%BD%D1%8C%C2%BB)"
   ]
  },
  {
   "cell_type": "code",
   "execution_count": null,
   "metadata": {},
   "outputs": [],
   "source": []
  }
 ],
 "metadata": {
  "author": "",
  "kernelspec": {
   "display_name": "Python 3",
   "language": "python",
   "name": "python3"
  },
  "language_info": {
   "codemirror_mode": {
    "name": "ipython",
    "version": 3
   },
   "file_extension": ".py",
   "mimetype": "text/x-python",
   "name": "python",
   "nbconvert_exporter": "python",
   "pygments_lexer": "ipython3",
   "version": "3.7.4"
  },
  "latex_envs": {
   "LaTeX_envs_menu_present": true,
   "autoclose": false,
   "autocomplete": true,
   "bibliofile": "biblio.bib",
   "cite_by": "apalike",
   "current_citInitial": 1,
   "eqLabelWithNumbers": true,
   "eqNumInitial": 1,
   "hotkeys": {
    "equation": "Ctrl-E",
    "itemize": "Ctrl-I"
   },
   "labels_anchors": false,
   "latex_user_defs": false,
   "report_style_numbering": false,
   "user_envs_cfg": false
  },
  "varInspector": {
   "cols": {
    "lenName": 16,
    "lenType": 16,
    "lenVar": 40
   },
   "kernels_config": {
    "python": {
     "delete_cmd_postfix": "",
     "delete_cmd_prefix": "del ",
     "library": "var_list.py",
     "varRefreshCmd": "print(var_dic_list())"
    },
    "r": {
     "delete_cmd_postfix": ") ",
     "delete_cmd_prefix": "rm(",
     "library": "var_list.r",
     "varRefreshCmd": "cat(var_dic_list()) "
    }
   },
   "types_to_exclude": [
    "module",
    "function",
    "builtin_function_or_method",
    "instance",
    "_Feature"
   ],
   "window_display": false
  }
 },
 "nbformat": 4,
 "nbformat_minor": 2
}
