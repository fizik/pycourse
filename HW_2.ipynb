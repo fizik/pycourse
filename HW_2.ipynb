{
 "cells": [
  {
   "cell_type": "markdown",
   "metadata": {},
   "source": [
    "# Задания\n",
    "\n",
    "#### Обязательная часть\n",
    "1. Следующий код генерирует список с числами размером 13 000 \n",
    "\n",
    "```python\n",
    "import numpy as np\n",
    "seed = 17  \n",
    "np.random.seed(seed)  # установка генератора случайных чисел в фиксированное положение\n",
    "a = list(np.random.randint(0, high=100, size=300)) + list(np.random.randint(0, high=25, size=300)) + list(np.random.randint(25, high=75, size=300)) + list(np.random.randint(0, high=200, size=1000)) + list(np.random.randint(0, high=10, size=1000)) + list(np.random.randint(50, high=60, size=10000))\n",
    "a = np.array(a)\n",
    "np.random.shuffle(a)\n",
    "a = list(a)\n",
    "```\n",
    "Задание: \n",
    "* создать список, в котором будут представлены элементы *a*, отсортированные по убыванию частоты (чаще встречающийся элемент расположен первым)\n",
    "* распечатать количество значений каждого из элементов в формате *element -> counts*\n",
    "\n",
    "*Подсказка: можно воспользоваться функцией [sorted()](https://docs.python.org/3/howto/sorting.html)*"
   ]
  },
  {
   "cell_type": "code",
   "execution_count": 1,
   "metadata": {},
   "outputs": [],
   "source": [
    "import numpy as np\n",
    "seed = 17  \n",
    "np.random.seed(seed)  # установка генератора случайных чисел в фиксированное положение\n",
    "a = list(np.random.randint(0, high=100, size=300)) + list(np.random.randint(0, high=25, size=300)) + list(np.random.randint(25, high=75, size=300)) + list(np.random.randint(0, high=200, size=1000)) + list(np.random.randint(0, high=10, size=1000)) + list(np.random.randint(50, high=60, size=10000))\n",
    "a = np.array(a)\n",
    "np.random.shuffle(a)\n",
    "a = list(a)"
   ]
  },
  {
   "cell_type": "code",
   "execution_count": 2,
   "metadata": {},
   "outputs": [],
   "source": [
    "a_count_dic={v: a.count(v) for v in set(a)}\n",
    "#a_count_dic"
   ]
  },
  {
   "cell_type": "code",
   "execution_count": 3,
   "metadata": {},
   "outputs": [
    {
     "name": "stdout",
     "output_type": "stream",
     "text": [
      "56  ->  1072\n",
      "59  ->  1054\n",
      "58  ->  1027\n",
      "54  ->  1026\n",
      "57  ->  1023\n",
      "52  ->  1003\n",
      "53  ->  1000\n",
      "55  ->  987\n",
      "50  ->  985\n",
      "51  ->  961\n",
      "2  ->  131\n",
      "3  ->  131\n",
      "5  ->  127\n",
      "4  ->  126\n",
      "9  ->  124\n",
      "7  ->  117\n",
      "1  ->  116\n",
      "8  ->  116\n",
      "6  ->  114\n",
      "0  ->  110\n",
      "16  ->  33\n",
      "20  ->  27\n",
      "14  ->  24\n",
      "19  ->  23\n",
      "21  ->  22\n",
      "17  ->  21\n",
      "26  ->  21\n",
      "63  ->  21\n",
      "10  ->  20\n",
      "13  ->  20\n",
      "61  ->  20\n",
      "15  ->  19\n",
      "23  ->  19\n",
      "33  ->  19\n",
      "46  ->  19\n",
      "29  ->  18\n",
      "18  ->  17\n",
      "24  ->  17\n",
      "25  ->  17\n",
      "49  ->  17\n",
      "22  ->  16\n",
      "34  ->  16\n",
      "39  ->  16\n",
      "12  ->  15\n",
      "27  ->  15\n",
      "38  ->  15\n",
      "40  ->  15\n",
      "41  ->  15\n",
      "42  ->  15\n",
      "47  ->  15\n",
      "60  ->  15\n",
      "65  ->  15\n",
      "68  ->  15\n",
      "69  ->  15\n",
      "70  ->  15\n",
      "74  ->  15\n",
      "11  ->  14\n",
      "31  ->  14\n",
      "35  ->  14\n",
      "36  ->  14\n",
      "45  ->  14\n",
      "32  ->  13\n",
      "37  ->  13\n",
      "67  ->  13\n",
      "71  ->  13\n",
      "72  ->  13\n",
      "73  ->  13\n",
      "28  ->  12\n",
      "43  ->  12\n",
      "64  ->  12\n",
      "66  ->  12\n",
      "88  ->  12\n",
      "90  ->  12\n",
      "44  ->  11\n",
      "76  ->  11\n",
      "89  ->  11\n",
      "92  ->  11\n",
      "96  ->  11\n",
      "190  ->  11\n",
      "30  ->  10\n",
      "87  ->  10\n",
      "91  ->  10\n",
      "93  ->  10\n",
      "154  ->  10\n",
      "62  ->  9\n",
      "77  ->  9\n",
      "118  ->  9\n",
      "123  ->  9\n",
      "145  ->  9\n",
      "147  ->  9\n",
      "48  ->  8\n",
      "84  ->  8\n",
      "103  ->  8\n",
      "126  ->  8\n",
      "140  ->  8\n",
      "156  ->  8\n",
      "172  ->  8\n",
      "177  ->  8\n",
      "180  ->  8\n",
      "78  ->  7\n",
      "79  ->  7\n",
      "81  ->  7\n",
      "97  ->  7\n",
      "102  ->  7\n",
      "105  ->  7\n",
      "106  ->  7\n",
      "109  ->  7\n",
      "119  ->  7\n",
      "135  ->  7\n",
      "142  ->  7\n",
      "178  ->  7\n",
      "187  ->  7\n",
      "75  ->  6\n",
      "83  ->  6\n",
      "111  ->  6\n",
      "129  ->  6\n",
      "146  ->  6\n",
      "167  ->  6\n",
      "174  ->  6\n",
      "182  ->  6\n",
      "185  ->  6\n",
      "189  ->  6\n",
      "197  ->  6\n",
      "80  ->  5\n",
      "82  ->  5\n",
      "98  ->  5\n",
      "99  ->  5\n",
      "100  ->  5\n",
      "117  ->  5\n",
      "125  ->  5\n",
      "133  ->  5\n",
      "134  ->  5\n",
      "148  ->  5\n",
      "150  ->  5\n",
      "153  ->  5\n",
      "159  ->  5\n",
      "161  ->  5\n",
      "173  ->  5\n",
      "175  ->  5\n",
      "179  ->  5\n",
      "181  ->  5\n",
      "188  ->  5\n",
      "194  ->  5\n",
      "101  ->  4\n",
      "107  ->  4\n",
      "115  ->  4\n",
      "116  ->  4\n",
      "120  ->  4\n",
      "121  ->  4\n",
      "124  ->  4\n",
      "127  ->  4\n",
      "128  ->  4\n",
      "130  ->  4\n",
      "136  ->  4\n",
      "137  ->  4\n",
      "139  ->  4\n",
      "141  ->  4\n",
      "143  ->  4\n",
      "158  ->  4\n",
      "160  ->  4\n",
      "162  ->  4\n",
      "166  ->  4\n",
      "169  ->  4\n",
      "176  ->  4\n",
      "183  ->  4\n",
      "192  ->  4\n",
      "195  ->  4\n",
      "196  ->  4\n",
      "85  ->  3\n",
      "94  ->  3\n",
      "95  ->  3\n",
      "110  ->  3\n",
      "131  ->  3\n",
      "132  ->  3\n",
      "149  ->  3\n",
      "152  ->  3\n",
      "157  ->  3\n",
      "164  ->  3\n",
      "168  ->  3\n",
      "170  ->  3\n",
      "171  ->  3\n",
      "184  ->  3\n",
      "191  ->  3\n",
      "199  ->  3\n",
      "104  ->  2\n",
      "108  ->  2\n",
      "112  ->  2\n",
      "114  ->  2\n",
      "122  ->  2\n",
      "138  ->  2\n",
      "144  ->  2\n",
      "151  ->  2\n",
      "163  ->  2\n",
      "165  ->  2\n",
      "193  ->  2\n",
      "198  ->  2\n",
      "155  ->  1\n",
      "186  ->  1\n"
     ]
    }
   ],
   "source": [
    "a_i_count_s=sorted(a_count_dic, key=a_count_dic.__getitem__, reverse=True)\n",
    "\n",
    "for n_i in a_i_count_s:\n",
    "    print(n_i, \" -> \", a_count_dic[n_i]) "
   ]
  },
  {
   "cell_type": "markdown",
   "metadata": {},
   "source": [
    "2. Даны следующие списки:\n",
    "```python\n",
    "seed = 19              \n",
    "np.random.seed(seed)  # установка генератора случайных чисел в фиксированное положение\n",
    "ids = list(np.random.choice(range(1000), size=7, replace=False))    # id\n",
    "names = ['ALEXANDRA__', 'EKaterINA', 'vladimir!!! FON Baron', '~_petr_~', '===s!!tanislav', 'alena+++', 'mik123hail']  \n",
    "surnames = ['I_vANOva0009-sTrizhevskaya!!', '', '!Petrov',  'gluhih', 'Bolshih', '', 'Kutuzov']    \n",
    "salaries = list(np.random.choice(range(10000, 100000), size=7, replace=True) / 19)\n",
    "```"
   ]
  },
  {
   "cell_type": "markdown",
   "metadata": {},
   "source": [
    "В каждом из элементов считаем, что один и тот же индекс относится к одному человеку\n",
    "\n",
    "Задание: \n",
    "* произвести очистку данных: \n",
    "    * убрать специальные символы и цифры из строк\n",
    "    * в именах первую букву первого слова сделать заглавной - остальные с маленькой\n",
    "    * в фамилиях первую букву после - и пробела сделать заглавной\n",
    "    * в случаях с пустыми значениями необходимо заполнить словом \"UNKNOWN\"\n",
    "    \n",
    "    "
   ]
  },
  {
   "cell_type": "code",
   "execution_count": 4,
   "metadata": {},
   "outputs": [
    {
     "name": "stdout",
     "output_type": "stream",
     "text": [
      "['Alexandra', 'Ekaterina', 'Vladimirfonbaron', 'Petr', 'Stanislav', 'Alena', 'Mikhail']\n",
      "['Ivanova-Strizhevskaya', 'UNKNOWN', 'Petrov', 'Gluhih', 'Bolshih', 'UNKNOWN', 'Kutuzov']\n"
     ]
    }
   ],
   "source": [
    "seed = 19\n",
    "np.random.seed(seed)  # установка генератора случайных чисел в фиксированное положение\n",
    "ids = list(np.random.choice(range(1000), size=7, replace=False))    # id\n",
    "names = ['ALEXANDRA__', 'EKaterINA', 'vladimir!!! FON Baron', '~_petr_~', '===s!!tanislav', 'alena+++', 'mik123hail']  \n",
    "surnames = ['I_vANOva0009-sTrizhevskaya!!', '', '!Petrov',  'gluhih', 'Bolshih', '', 'Kutuzov']    \n",
    "salaries = list(np.random.choice(range(10000, 100000), size=7, replace=True) / 19)\n",
    "\n",
    "def ns_validate(names, issurname):\n",
    "    for i in range(len(names)):\n",
    "        t_word=[]\n",
    "        #print(name)\n",
    "        first_char=True\n",
    "        for char in names[i]:\n",
    "            #print(char)\n",
    "            if(char.isalpha()):\n",
    "                if(first_char):\n",
    "                    t_word.append(char.capitalize())\n",
    "                    first_char=False\n",
    "                else:\n",
    "                    t_word.append(char.lower())\n",
    "            else:\n",
    "                if(issurname and (char == '-' or char == ' ')):\n",
    "                    t_word.append(char)\n",
    "                    first_char=True\n",
    "        if(first_char):\n",
    "            names[i]=\"UNKNOWN\"\n",
    "        else:\n",
    "            names[i]=\"\".join(t_word)\n",
    "    return names\n",
    "\n",
    "names=ns_validate(names, False)\n",
    "surnames=ns_validate(surnames, True)\n",
    "print(names)\n",
    "print(surnames)"
   ]
  },
  {
   "cell_type": "markdown",
   "metadata": {},
   "source": [
    "* создать словарь staff, где в качестве ключа будет *id*, а в качества значения - словарь с ключами \"name\", \"surname\", \"salary\""
   ]
  },
  {
   "cell_type": "code",
   "execution_count": 5,
   "metadata": {
    "scrolled": true
   },
   "outputs": [
    {
     "data": {
      "text/plain": [
       "{800: {'name': 'Alexandra',\n",
       "  'surname': 'Ivanova-Strizhevskaya',\n",
       "  'salary': 4443.105263157895},\n",
       " 773: {'name': 'Ekaterina', 'surname': 'UNKNOWN', 'salary': 4692.684210526316},\n",
       " 23: {'name': 'Vladimirfonbaron',\n",
       "  'surname': 'Petrov',\n",
       "  'salary': 3633.2105263157896},\n",
       " 819: {'name': 'Petr', 'surname': 'Gluhih', 'salary': 3931.4736842105262},\n",
       " 486: {'name': 'Stanislav',\n",
       "  'surname': 'Bolshih',\n",
       "  'salary': 2868.0526315789475},\n",
       " 719: {'name': 'Alena', 'surname': 'UNKNOWN', 'salary': 3224.4210526315787},\n",
       " 239: {'name': 'Mikhail', 'surname': 'Kutuzov', 'salary': 644.1052631578947}}"
      ]
     },
     "execution_count": 5,
     "metadata": {},
     "output_type": "execute_result"
    }
   ],
   "source": [
    "staff={k: ({\"name\": v, \"surname\":v2, \"salary\":v3}) for k, v, v2, v3 in zip(ids, names,surnames,salaries)}\n",
    "staff"
   ]
  },
  {
   "cell_type": "markdown",
   "metadata": {},
   "source": [
    "* Вывести все id через запятую, воспользовашись строковым методом [join()](https://docs.python.org/3.7/library/stdtypes.html#str.join)"
   ]
  },
  {
   "cell_type": "code",
   "execution_count": 6,
   "metadata": {},
   "outputs": [
    {
     "data": {
      "text/plain": [
       "'800, 773, 23, 819, 486, 719, 239'"
      ]
     },
     "execution_count": 6,
     "metadata": {},
     "output_type": "execute_result"
    }
   ],
   "source": [
    "str_ids=\", \".join(map(str,ids))\n",
    "str_ids"
   ]
  },
  {
   "cell_type": "markdown",
   "metadata": {},
   "source": [
    "* Произвести печать словаря в следующем формате (знак решетки не учитывайте здесь и в дальнейшем - это для форматирования страницы)\n",
    "\n",
    "```python\n",
    "# |============================================================|  \n",
    "# |  id    |    Name    |         Surname       |  Salary      |\n",
    "# |============================================================|   \n",
    "# |  800   |  Alexandra | Ivanova-Strizhevskaya |  4443.10     |\n",
    "# |  ....  |  .....     | ......................| ............ |\n",
    "```\n",
    "1) Ширины столбцов без разграничителей (|, =): id - 7, name - 25, surname - 30, salary - 10\n",
    "\n",
    "2) Выравнивания: названия столбцов по центру, значений: id, salary - по правому краю, name, surname - по центру\n",
    "\n",
    "3) добавить переменную sort_by_salary = True/False, которая позволяет выводить эту таблицу в порядке сортировки по зарплате\n",
    "\n",
    "*Подсказка: при проверке строк воспользуйтесь методом isalpha()*"
   ]
  },
  {
   "cell_type": "code",
   "execution_count": 7,
   "metadata": {},
   "outputs": [
    {
     "name": "stdout",
     "output_type": "stream",
     "text": [
      "|====================================================================================|\n",
      "|   id    |           Name            |            Surname             |    Salary   |\n",
      "|====================================================================================|\n",
      "|     239 |          Mikhail          |            Kutuzov             |     644.11  |\n",
      "|     486 |         Stanislav         |            Bolshih             |    2868.05  |\n",
      "|     719 |           Alena           |            UNKNOWN             |    3224.42  |\n",
      "|      23 |     Vladimirfonbaron      |             Petrov             |    3633.21  |\n",
      "|     819 |           Petr            |             Gluhih             |    3931.47  |\n",
      "|     800 |         Alexandra         |     Ivanova-Strizhevskaya      |    4443.11  |\n",
      "|     773 |         Ekaterina         |            UNKNOWN             |    4692.68  |\n",
      "|  ...... |  ........................ | .............................. | ........... |\n"
     ]
    }
   ],
   "source": [
    "sort_by_salary = False\n",
    "ids_sorted=sorted(ids, key=lambda lids: staff[lids]['salary'], reverse=sort_by_salary)\n",
    "\n",
    "print(\"|====================================================================================|\")\n",
    "print(f\"| {'id':^7} | {'Name':^25} | {'Surname':^30} |  {'Salary':^10} |\")\n",
    "print(\"|====================================================================================|\")\n",
    "#for st in staff_sorted:\n",
    "for st in ids_sorted:\n",
    "    print(f\"| {st:7d} | {staff[st]['name']:^25} | {staff[st]['surname']:^30} | {staff[st]['salary']:10.2f}  |\")\n",
    "print(\"|  ...... |  ........................ | .............................. | ........... |\")"
   ]
  },
  {
   "cell_type": "markdown",
   "metadata": {},
   "source": [
    "#### Необязательная часть\n",
    "1. Задание с [PythonChallenge](http://www.pythonchallenge.com) - дешифруйте следующую строку:\n",
    "```python\n",
    "s = \"g fmnc wms bgblr rpylqjyrc gr zw fylb. rfyrq ufyr amknsrcpq ypc dmp. bmgle gr gl zw fylb gq glcddgagclr ylb rfyr'q ufw rfgq rcvr gq qm jmle. sqgle qrpgle.kyicrpylq() gq pcamkkclbcb. lmu ynnjw ml rfc spj.\"\n",
    "```\n",
    "*Подсказка: помогут функции ord() и chr()*"
   ]
  },
  {
   "cell_type": "markdown",
   "metadata": {},
   "source": [
    "2. Дан следующий код, генерирующий сигнал:\n",
    "```python\n",
    "import numpy as np\n",
    "import matplotlib.pyplot as plt\n",
    "seed = 29              \n",
    "np.random.seed(seed)  # установка генератора случайных чисел в фиксированное положение\n",
    "x = np.linspace(0, 10*np.pi, 1000)\n",
    "signal = list(np.sin(x) + np.sin(x)**2 + 1 / np.sqrt((x + 1)) * np.sqrt(2 + np.sin(x))) + np.random.rand(1000)\n",
    "```\n",
    "\n",
    "Задание: создайте фильтр [скользящего среднего](https://ru.wikipedia.org/wiki/%D0%A1%D0%BA%D0%BE%D0%BB%D1%8C%D0%B7%D1%8F%D1%89%D0%B0%D1%8F_%D1%81%D1%80%D0%B5%D0%B4%D0%BD%D1%8F%D1%8F_(%D1%84%D0%B8%D0%BB%D1%8C%D1%82%D1%80)) с параметром *window* и *padding*, где:\n",
    "* *window* - размер окна скользящего среднего, должен быть нечетным числом\n",
    "* *padding* - флаг (True/False), который показывает, возвращать ли сигнал исходного размера или уменьшенного.\n",
    "\n",
    "В случае padding=True добавление элементов в начале и конце происходит зеркальным образом.\n",
    "\n",
    "Немного для понимания задачи на примерах:\n",
    "```python\n",
    "padding = False\n",
    "window = 3\n",
    "s = [1, 2, 3, 4, 5]\n",
    "\n",
    "# Ваш код\n",
    "res = [\n",
    "    (1 + 2 + 3) / 3,\n",
    "    (2 + 3 + 4) / 3,\n",
    "    (3 + 4 + 5) / 3,\n",
    "]  # результат по размеру меньше исходного сигнала\n",
    "\n",
    "padding = True\n",
    "s_pad = [2, 1, 2, 3, 4, 5, 4]\n",
    "# Ваш код\n",
    "\n",
    "res = [\n",
    "    (2 + 1 + 2) / 3,\n",
    "    (1 + 2 + 3) / 3,\n",
    "    (2 + 3 + 4) / 3,\n",
    "    (3 + 4 + 5) / 3,\n",
    "    (4 + 5 + 4) / 3,\n",
    "]  # результат такого же размера как исходный сигнал\n",
    "\n",
    "# Посмотреть на сигнал можно с помощью визуализации в matplotlib\n",
    "plt.figure()\n",
    "plt.plot(x, signal)\n",
    "```"
   ]
  },
  {
   "cell_type": "markdown",
   "metadata": {},
   "source": [
    "3. Дана строка - проверить, является ли она [палиндромом](https://ru.wikipedia.org/wiki/%D0%9F%D0%B0%D0%BB%D0%B8%D0%BD%D0%B4%D1%80%D0%BE%D0%BC), то есть одинакова с начала и с конца\n",
    "```python\n",
    "palindrom_cases = {'d': True, 'kazak': True, 'dobro': False, \"Madam I'm Adam\": True, # (!)\n",
    "                   \"Some men interpret nine memos\": True}\n",
    "```"
   ]
  },
  {
   "cell_type": "markdown",
   "metadata": {},
   "source": [
    "4. Даны результаты матчей в следующем формате \n",
    "\n",
    "```python\n",
    "results = {1:\n",
    "           {\n",
    "               'Spartak - Dynamo': \"3 - 1\",\n",
    "               'Arsenal - Lokomotiv': \"4 - 0\",\n",
    "               'Zenit - Krasnodar': \"1 - 2\",\n",
    "               'CSKA - Rubin': \"1 - 2\"\n",
    "           }\n",
    "           2: {\n",
    "               ...\n",
    "           }\n",
    "          }\n",
    "```\n",
    "Гарантируется форматированное хранение данных\n",
    "\n",
    "Задание:\n",
    "\n",
    "* Для каждой команды посчитать количество сыгранных игр, побед, ничьих, поражений и очков (победа - 3, ничья - 1, поражение - 0)\n",
    "* Вывести в таблице в порядке убывания в следующем виде, формат с выравниванием свободный, единственное требование - обеспечение вертикальности разделителей столбцов:\n",
    "\n",
    "```python\n",
    "\n",
    "# |==================================================|  \n",
    "# |  Team      | Played | Wins | Draw | Loss | Score |\n",
    "# |==================================================|   \n",
    "# |  Lokomotiv |  5     | 3    | 2    | 1    | 11    |\n",
    "# |  Dynamo    |  5     | 2    | 3    | 1    | 9     |\n",
    "```\n",
    "* В случаях, когда у команд равное число очков, выше будет находиться та команда с большей суммой голов, если и там равенство, то по алфавиту."
   ]
  },
  {
   "cell_type": "markdown",
   "metadata": {},
   "source": [
    "5. Дан текст в виде строки, из которого необходимо удалить все повторяющиеся пробелы."
   ]
  },
  {
   "cell_type": "code",
   "execution_count": null,
   "metadata": {},
   "outputs": [],
   "source": []
  },
  {
   "cell_type": "code",
   "execution_count": null,
   "metadata": {},
   "outputs": [],
   "source": []
  },
  {
   "cell_type": "code",
   "execution_count": null,
   "metadata": {},
   "outputs": [],
   "source": []
  }
 ],
 "metadata": {
  "author": "",
  "kernelspec": {
   "display_name": "Python 3",
   "language": "python",
   "name": "python3"
  },
  "language_info": {
   "codemirror_mode": {
    "name": "ipython",
    "version": 3
   },
   "file_extension": ".py",
   "mimetype": "text/x-python",
   "name": "python",
   "nbconvert_exporter": "python",
   "pygments_lexer": "ipython3",
   "version": "3.7.4"
  },
  "latex_envs": {
   "LaTeX_envs_menu_present": true,
   "autoclose": false,
   "autocomplete": true,
   "bibliofile": "biblio.bib",
   "cite_by": "apalike",
   "current_citInitial": 1,
   "eqLabelWithNumbers": true,
   "eqNumInitial": 1,
   "hotkeys": {
    "equation": "Ctrl-E",
    "itemize": "Ctrl-I"
   },
   "labels_anchors": false,
   "latex_user_defs": false,
   "report_style_numbering": false,
   "user_envs_cfg": false
  },
  "varInspector": {
   "cols": {
    "lenName": 16,
    "lenType": 16,
    "lenVar": 40
   },
   "kernels_config": {
    "python": {
     "delete_cmd_postfix": "",
     "delete_cmd_prefix": "del ",
     "library": "var_list.py",
     "varRefreshCmd": "print(var_dic_list())"
    },
    "r": {
     "delete_cmd_postfix": ") ",
     "delete_cmd_prefix": "rm(",
     "library": "var_list.r",
     "varRefreshCmd": "cat(var_dic_list()) "
    }
   },
   "types_to_exclude": [
    "module",
    "function",
    "builtin_function_or_method",
    "instance",
    "_Feature"
   ],
   "window_display": false
  }
 },
 "nbformat": 4,
 "nbformat_minor": 2
}
